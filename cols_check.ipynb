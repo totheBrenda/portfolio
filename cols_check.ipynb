{
  "nbformat": 4,
  "nbformat_minor": 0,
  "metadata": {
    "colab": {
      "name": "cols_check.ipynb",
      "provenance": [],
      "authorship_tag": "ABX9TyOH6sFEQGfujjVgwFbE3pgz",
      "include_colab_link": true
    },
    "kernelspec": {
      "name": "python3",
      "display_name": "Python 3"
    },
    "language_info": {
      "name": "python"
    }
  },
  "cells": [
    {
      "cell_type": "markdown",
      "metadata": {
        "id": "view-in-github",
        "colab_type": "text"
      },
      "source": [
        "<a href=\"https://colab.research.google.com/github/totheBrenda/portfolio/blob/main/cols_check.ipynb\" target=\"_parent\"><img src=\"https://colab.research.google.com/assets/colab-badge.svg\" alt=\"Open In Colab\"/></a>"
      ]
    },
    {
      "cell_type": "code",
      "execution_count": null,
      "metadata": {
        "id": "rwFUMF-BpX4W"
      },
      "outputs": [],
      "source": [
        "import pandas as pd\n",
        "df = pd.read_excel(\"/content/4data.xlsx\", sheet_name='Sheet1')\n",
        "df1 = df.drop('PRAT', axis=1)\n",
        "df1"
      ]
    },
    {
      "cell_type": "code",
      "source": [
        "def cols_check(df) :\n",
        "  cnt_cols = pd.DataFrame(columns=['컬럼보유수', '전부일치'])\n",
        "  cols = df.columns\n",
        "\n",
        "  for idx in range(df.shape[0]) :\n",
        "    a = 0\n",
        "    for col in cols :\n",
        "      if str(df[col][idx]) != 'nan' :\n",
        "        a += 1\n",
        "\n",
        "\n",
        "    if df[cols[0]][idx] == df[cols[1]][idx] :\n",
        "      if df[cols[1]][idx] == df[cols[2]][idx] :\n",
        "        if df[cols[2]][idx] == df[cols[3]][idx] :\n",
        "          if df[cols[3]][idx] == df[cols[4]][idx] :\n",
        "              cnt_cols.loc[idx] = [a, '전부일치']\n",
        "          else : cnt_cols.loc[idx] = [a, '불일치']\n",
        "        else :cnt_cols.loc[idx] = [a, '불일치']\n",
        "      else : cnt_cols.loc[idx] = [a, '불일치']\n",
        "    else : cnt_cols.loc[idx] = [a, '불일치']\n",
        "\n",
        "  return cnt_cols"
      ],
      "metadata": {
        "id": "FQDJwZhtKrTa"
      },
      "execution_count": 2,
      "outputs": []
    },
    {
      "cell_type": "code",
      "source": [
        "cnt_df = cols_check(df1)\n",
        "new_df = pd.merge(df1, cnt_df, left_index=True, right_index=True)\n",
        "new_df"
      ],
      "metadata": {
        "id": "-1u5qj1ALxMP"
      },
      "execution_count": null,
      "outputs": []
    },
    {
      "cell_type": "code",
      "source": [
        "print(new_df[new_df['전부일치'] == '전부일치']['컬럼보유수'].shape,\n",
        "      new_df[new_df['전부일치'] == '전부일치']['컬럼보유수'].value_counts())"
      ],
      "metadata": {
        "id": "Cnijbz_hPQzB"
      },
      "execution_count": null,
      "outputs": []
    },
    {
      "cell_type": "code",
      "source": [
        "new_df[new_df['전부일치'] != '전부일치'].sort_values('컬럼보유수', ascending=False)"
      ],
      "metadata": {
        "id": "_CWngXhkRbKi"
      },
      "execution_count": null,
      "outputs": []
    },
    {
      "cell_type": "code",
      "source": [
        "df.to_excel('name.xlxs', index=False)"
      ],
      "metadata": {
        "id": "6FAz_hfFSo7L"
      },
      "execution_count": null,
      "outputs": []
    }
  ]
}
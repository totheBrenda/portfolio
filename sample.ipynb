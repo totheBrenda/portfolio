{
  "nbformat": 4,
  "nbformat_minor": 0,
  "metadata": {
    "colab": {
      "name": "sample.ipynb",
      "provenance": [],
      "include_colab_link": true
    },
    "kernelspec": {
      "name": "python3",
      "display_name": "Python 3"
    },
    "language_info": {
      "name": "python"
    }
  },
  "cells": [
    {
      "cell_type": "markdown",
      "metadata": {
        "id": "view-in-github",
        "colab_type": "text"
      },
      "source": [
        "<a href=\"https://colab.research.google.com/github/totheBrenda/portfolio/blob/main/sample.ipynb\" target=\"_parent\"><img src=\"https://colab.research.google.com/assets/colab-badge.svg\" alt=\"Open In Colab\"/></a>"
      ]
    },
    {
      "cell_type": "markdown",
      "source": [
        "**데이터 로딩 / 전처리**"
      ],
      "metadata": {
        "id": "fw3MSDxiOKBM"
      }
    },
    {
      "cell_type": "code",
      "execution_count": null,
      "metadata": {
        "id": "8Xg6kjQJDxwH"
      },
      "outputs": [],
      "source": [
        "## 데이터로드\n",
        "import pandas as pd\n",
        "common_data = pd.read_csv('/content/common_data.csv').drop_duplicates(keep='first').reset_index(drop='true')\n",
        "vktod = pd.read_csv('/content/vktod.csv')                          ## 걸러진거 (5843, 63)\n",
        "dma_y_data = pd.read_csv('/content/dma_y_data.csv')\n",
        "# p_data = pd.read_csv('/content/p_data.csv').drop_duplicates(keep='first').reset_index(drop='true')"
      ]
    },
    {
      "cell_type": "code",
      "source": [
        "## 데이터 수 맞추고 합치고 뺄 거 빼고 전처리\n",
        "df1 = pd.merge(vktod, common_data, left_on='%KEY', right_on='%KEY', how='left')\n",
        "df2 = df1.drop(['순번', '지표명', 'TEST_RQST_YR', 'TEST_RQST_NO', 'TEST_VER_NO', 'DPRM_KOR_NM_ORG', 'CMPT_ID', 'MIX_PLC'], axis = 1)\n",
        "df2['TD_NET_OIL'] = df2['TD_NET_OIL'].replace('-',0).astype(float)\n",
        "# df2.info()"
      ],
      "metadata": {
        "id": "5TKSRU0cD3z6"
      },
      "execution_count": null,
      "outputs": []
    },
    {
      "cell_type": "code",
      "source": [
        "## DMA Y 정리\n",
        "dma_cols = dma_y_data.columns\n",
        "dma_data = {}\n",
        "dma_y_name, dma_data_shape = [], []\n",
        "for dma_col in dma_cols[1:] :\n",
        "  exec('dma_data[dma_col] = pd.merge(df2, dma_y_data[[\\'%KEY\\', dma_col]], left_on=\\'%KEY\\', right_on=\\'%KEY\\', how=\\'left\\').dropna()'.format(dma_col))\n",
        "  dma_y_name.append(dma_col), dma_data_shape.append(dma_data[dma_col].shape)\n",
        "pd.DataFrame({'dma_y_name' : dma_y_name, 'dma_data_shape' : dma_data_shape})"
      ],
      "metadata": {
        "id": "sGOiwAQXD5SR"
      },
      "execution_count": null,
      "outputs": []
    },
    {
      "cell_type": "markdown",
      "source": [
        "**타겟 선정 / 데이터 거르기**"
      ],
      "metadata": {
        "id": "mo3-klCjOQmj"
      }
    },
    {
      "cell_type": "code",
      "source": [
        "## 타겟 고르깅\n",
        "target = 'target'\n",
        "x_data = dma_data[target].drop(['%KEY', target], axis = 1).reset_index(drop=True)\n",
        "y_data = dma_data[target][target].reset_index(drop=True)\n",
        "x_data.shape, y_data.shape"
      ],
      "metadata": {
        "id": "XfvINGoHD68p"
      },
      "execution_count": null,
      "outputs": []
    },
    {
      "cell_type": "markdown",
      "source": [
        "**하나씩 걸러가기**"
      ],
      "metadata": {
        "id": "tG16lg6OOaBc"
      }
    },
    {
      "cell_type": "code",
      "source": [
        "from sklearn.linear_model import LinearRegression\n",
        "from sklearn.metrics import r2_score\n",
        "\n",
        "def arr_r2(x_data, y_data, fixed) :\n",
        "  colname = []\n",
        "  r2score = []\n",
        "  coefvalue = []\n",
        "  n = len(fixed)\n",
        "\n",
        "  cols = x_data.drop(fixed, axis=1).columns\n",
        "\n",
        "  for col in cols :\n",
        "\n",
        "    fixed.append(col)\n",
        "    model = LinearRegression()\n",
        "    model.fit(x_data[fixed], y_data)\n",
        "\n",
        "    y_pred = model.predict(x_data[fixed])\n",
        "    coef = model.coef_[0]\n",
        "    r2 = r2_score(y_data, y_pred)\n",
        "\n",
        "    colname.append(col), r2score.append(r2), coefvalue.append(coef)\n",
        "    fixed.pop()\n",
        "\n",
        "  arr_df = pd.DataFrame({f'{target}_fix{n}_column' : colname, f'{target}_fix{n}_r2' : r2score})\n",
        "  arr_df = arr_df.sort_values(f'{target}_fix{n}_r2', ascending=False).reset_index(drop=True)\n",
        "  # tan0_5.shape\n",
        "  return arr_df[:10]"
      ],
      "metadata": {
        "id": "D96AoTQ6ETGM"
      },
      "execution_count": null,
      "outputs": []
    },
    {
      "cell_type": "code",
      "source": [
        "fixed = []\n",
        "print(f'fixed column name : {fixed}')\n",
        "f0 = arr_r2(x_data, y_data, fixed)\n",
        "f0"
      ],
      "metadata": {
        "id": "GUp8djYQEwZl"
      },
      "execution_count": null,
      "outputs": []
    },
    {
      "cell_type": "code",
      "source": [
        "fixed = []\n",
        "print(f'fixed column name : {fixed}')\n",
        "f1 = arr_r2(x_data, y_data, fixed)\n",
        "f1 = pd.concat([f0, f1], axis=1, join='inner')\n",
        "f1"
      ],
      "metadata": {
        "id": "GOYEGA5lE7JE"
      },
      "execution_count": null,
      "outputs": []
    },
    {
      "cell_type": "code",
      "source": [
        "fixed = []\n",
        "print(f'fixed column name : {fixed}')\n",
        "f2 = arr_r2(x_data, y_data, fixed)\n",
        "f2 = pd.concat([f1, f2], axis=1, join='inner')\n",
        "f2"
      ],
      "metadata": {
        "id": "Zz-Gmu5pFBbM"
      },
      "execution_count": null,
      "outputs": []
    },
    {
      "cell_type": "code",
      "source": [
        "fixed = []\n",
        "print(f'fixed column name : {fixed}')\n",
        "f3 = arr_r2(x_data, y_data, fixed)\n",
        "f3 = pd.concat([f2, f3], axis=1, join='inner')\n",
        "f3"
      ],
      "metadata": {
        "id": "lUdoLqU_FwDm"
      },
      "execution_count": null,
      "outputs": []
    },
    {
      "cell_type": "code",
      "source": [
        "fixed = []\n",
        "print(f'fixed column name : {fixed}')\n",
        "f4 = arr_r2(x_data, y_data, fixed)\n",
        "f4 = pd.concat([f3, f4], axis=1, join='inner')\n",
        "f4"
      ],
      "metadata": {
        "id": "zIpPZkcUGKAZ"
      },
      "execution_count": null,
      "outputs": []
    },
    {
      "cell_type": "code",
      "source": [
        "fixed = []\n",
        "print(f'fixed column name : {fixed}')\n",
        "f5 = arr_r2(x_data, y_data, fixed)\n",
        "f5 = pd.concat([f4, f5], axis=1, join='inner')\n",
        "f5"
      ],
      "metadata": {
        "id": "-RadZ7tiGRlX"
      },
      "execution_count": null,
      "outputs": []
    },
    {
      "cell_type": "code",
      "source": [
        "fixed = []\n",
        "print(f'fixed column name : {fixed}')\n",
        "f6 = arr_r2(x_data, y_data, fixed)\n",
        "f6 = pd.concat([f5, f6], axis=1, join='inner')\n",
        "f6"
      ],
      "metadata": {
        "id": "8zyEEyd_GaF_"
      },
      "execution_count": null,
      "outputs": []
    },
    {
      "cell_type": "code",
      "source": [
        "df.to_excel('title_arr_r2.xlsx')"
      ],
      "metadata": {
        "id": "4ndxyUE1UiC9"
      },
      "execution_count": null,
      "outputs": []
    },
    {
      "cell_type": "markdown",
      "source": [
        "**n개 랜덤으로 돌려서 r2 확인하기**"
      ],
      "metadata": {
        "id": "e_MKKFTnOel0"
      }
    },
    {
      "cell_type": "code",
      "source": [
        "## 랜덤만들기\n",
        "import numpy as np\n",
        "\n",
        "# np.random.seed(2)\n",
        "\n",
        "def rd_arr_r2(x_data, y_data, rd_fixed, k, l) :\n",
        "  colname = []\n",
        "  r2score = []\n",
        "  coefvalue = []\n",
        "  n = len(rd_fixed)\n",
        "\n",
        "  cols = x_data.drop(rd_fixed, axis=1).columns\n",
        "  \n",
        "  for i in range(k) :                           ## k : 몇번랜덤할끄야?\n",
        "    rd_cols = np.random.choice(cols, l)         ## l : 몇개랜덤할끄야?\n",
        "\n",
        "    for re_col in rd_cols :\n",
        "      rd_fixed.append(re_col)\n",
        "\n",
        "    model = LinearRegression()\n",
        "    model.fit(x_data[rd_fixed], y_data)\n",
        "\n",
        "    y_pred = model.predict(x_data[rd_fixed])\n",
        "    coef = model.coef_[0]\n",
        "    r2 = r2_score(y_data, y_pred)\n",
        "\n",
        "    colname.append(rd_cols), r2score.append(r2), coefvalue.append(coef)\n",
        "    \n",
        "    for j in range(l) :\n",
        "      rd_fixed.pop()\n",
        "    \n",
        "\n",
        "  rd_arr_df = pd.DataFrame({f'tan0_rd{n}_column' : colname, f'tan0_rd{n}_r2' : r2score})\n",
        "  rd_arr_df = rd_arr_df.sort_values(f'tan0_rd{n}_r2', ascending=False).reset_index(drop=True)\n",
        "  # tan0_5.shape\n",
        "  return rd_arr_df[:10]"
      ],
      "metadata": {
        "id": "tUUwJefMGlOg"
      },
      "execution_count": null,
      "outputs": []
    },
    {
      "cell_type": "code",
      "source": [
        "rd_fixed =  []\n",
        "rd_arr_r2(x_data, y_data, rd_fixed, 5, 2)           ## 4번째 : 몇번랜덤돌릴?  5번째 : 한번에몇개뽑을?"
      ],
      "metadata": {
        "id": "IiR3mYNIIJAB"
      },
      "execution_count": null,
      "outputs": []
    },
    {
      "cell_type": "markdown",
      "source": [
        "**plt 그리기**"
      ],
      "metadata": {
        "id": "7VVzfQzGOrgN"
      }
    },
    {
      "cell_type": "code",
      "source": [
        "import matplotlib.pyplot as plt\n",
        "\n",
        "def plts(x_data, y_data, pred_fixed, s, f) :\n",
        "  model = LinearRegression()\n",
        "  model.fit(x_data[pred_fixed], y_data)\n",
        "  y_pred = model.predict(x_data[pred_fixed])\n",
        "  \n",
        "  fig, ax = plt.subplots(figsize=(20, 7))\n",
        "  ax.set_title(f'green = y_data({target}),                    red = pred_data({pred_fixed})')\n",
        "  ax.plot(y_data[s:f], label = 'val', marker = 'o', markersize = 5, color = 'green')\n",
        "  ax.plot(y_pred[s:f], label = 'pred', marker='o', markersize = 5, color = 'red')"
      ],
      "metadata": {
        "id": "Ox3cqgtQK91P"
      },
      "execution_count": null,
      "outputs": []
    },
    {
      "cell_type": "code",
      "source": [
        "pred_fixed = []\n",
        "plts(x_data, y_data, pred_fixed, None, None);"
      ],
      "metadata": {
        "id": "sXhG7xskNNeD"
      },
      "execution_count": null,
      "outputs": []
    },
    {
      "cell_type": "markdown",
      "source": [
        "**계수확인하기**"
      ],
      "metadata": {
        "id": "kQzFFBruSkQb"
      }
    },
    {
      "cell_type": "code",
      "source": [
        "## coef_\n",
        "def values(x_data, y_data, pred_fixed) :\n",
        "  model = LinearRegression()\n",
        "  model.fit(x_data[pred_fixed], y_data)\n",
        "  y_pred = model.predict(x_data[pred_fixed])\n",
        "\n",
        "  coe = model.coef_\n",
        "  df = pd.DataFrame({'fixed_column' : pred_fixed, 'coef' : coe})\n",
        "  return df"
      ],
      "metadata": {
        "id": "hMjmSIMhQJBA"
      },
      "execution_count": null,
      "outputs": []
    },
    {
      "cell_type": "code",
      "source": [
        "pred_fixed = []\n",
        "coef_df = values(x_data, y_data, pred_fixed)\n",
        "coef_df"
      ],
      "metadata": {
        "id": "ea3Ol7pwQh1_"
      },
      "execution_count": null,
      "outputs": []
    },
    {
      "cell_type": "code",
      "source": [
        "coef_df.to_excel('title_coef.xlsx', index=False)"
      ],
      "metadata": {
        "id": "sYuv4uZrwbyQ"
      },
      "execution_count": null,
      "outputs": []
    }
  ]
}